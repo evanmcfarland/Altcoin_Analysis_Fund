{
 "cells": [
  {
   "cell_type": "code",
   "execution_count": 1,
   "metadata": {
    "scrolled": true
   },
   "outputs": [],
   "source": [
    "from csv import reader\n",
    "opened_file = open('Binance FCAS List - 09_05_20 - Sheet1.csv')\n",
    "read_file = reader(opened_file)\n",
    "fcas_data = list(read_file)\n",
    "fcas_data_header = fcas_data[0]\n",
    "fcas_data = (fcas_data[1:])"
   ]
  },
  {
   "cell_type": "markdown",
   "metadata": {},
   "source": [
    "# Part 1: Isolating Technologically Undervalued Binance Coins"
   ]
  },
  {
   "cell_type": "markdown",
   "metadata": {},
   "source": [
    "## 1.1 - Arranging Data\n",
    "Converting all the data into a nice clean dataframe."
   ]
  },
  {
   "cell_type": "code",
   "execution_count": 2,
   "metadata": {},
   "outputs": [],
   "source": [
    "import numpy as np\n",
    "import pandas as pd"
   ]
  },
  {
   "cell_type": "code",
   "execution_count": 3,
   "metadata": {},
   "outputs": [],
   "source": [
    "fcas_array = np.array([fcas_data])\n",
    "fcas_df = pd.read_csv('Binance FCAS List - 09_05_20 - Sheet1.csv', index_col=0)"
   ]
  },
  {
   "cell_type": "code",
   "execution_count": 4,
   "metadata": {},
   "outputs": [],
   "source": [
    "from IPython.display import display, HTML\n",
    "# ethereum is an outilier by marketcap/fcas ratio so it will be removed\n",
    "# display(fcas_df)"
   ]
  },
  {
   "cell_type": "markdown",
   "metadata": {},
   "source": [
    "These are all the major statistics from our most important columns"
   ]
  },
  {
   "cell_type": "code",
   "execution_count": 5,
   "metadata": {},
   "outputs": [
    {
     "data": {
      "text/html": [
       "<div>\n",
       "<style scoped>\n",
       "    .dataframe tbody tr th:only-of-type {\n",
       "        vertical-align: middle;\n",
       "    }\n",
       "\n",
       "    .dataframe tbody tr th {\n",
       "        vertical-align: top;\n",
       "    }\n",
       "\n",
       "    .dataframe thead th {\n",
       "        text-align: right;\n",
       "    }\n",
       "</style>\n",
       "<table border=\"1\" class=\"dataframe\">\n",
       "  <thead>\n",
       "    <tr style=\"text-align: right;\">\n",
       "      <th></th>\n",
       "      <th>FCAS</th>\n",
       "      <th>DEV. BEHAVIOR</th>\n",
       "      <th>USER ACTIVITY</th>\n",
       "      <th>MARKET MATURITY</th>\n",
       "    </tr>\n",
       "  </thead>\n",
       "  <tbody>\n",
       "    <tr>\n",
       "      <td>count</td>\n",
       "      <td>133.000000</td>\n",
       "      <td>133.000000</td>\n",
       "      <td>133.000000</td>\n",
       "      <td>132.000000</td>\n",
       "    </tr>\n",
       "    <tr>\n",
       "      <td>mean</td>\n",
       "      <td>609.285714</td>\n",
       "      <td>671.270677</td>\n",
       "      <td>538.834586</td>\n",
       "      <td>760.757576</td>\n",
       "    </tr>\n",
       "    <tr>\n",
       "      <td>std</td>\n",
       "      <td>218.683962</td>\n",
       "      <td>223.189148</td>\n",
       "      <td>264.603568</td>\n",
       "      <td>92.527786</td>\n",
       "    </tr>\n",
       "    <tr>\n",
       "      <td>min</td>\n",
       "      <td>151.000000</td>\n",
       "      <td>113.000000</td>\n",
       "      <td>22.000000</td>\n",
       "      <td>533.000000</td>\n",
       "    </tr>\n",
       "    <tr>\n",
       "      <td>25%</td>\n",
       "      <td>463.000000</td>\n",
       "      <td>485.000000</td>\n",
       "      <td>374.000000</td>\n",
       "      <td>720.000000</td>\n",
       "    </tr>\n",
       "    <tr>\n",
       "      <td>50%</td>\n",
       "      <td>674.000000</td>\n",
       "      <td>739.000000</td>\n",
       "      <td>555.000000</td>\n",
       "      <td>777.000000</td>\n",
       "    </tr>\n",
       "    <tr>\n",
       "      <td>75%</td>\n",
       "      <td>792.000000</td>\n",
       "      <td>862.000000</td>\n",
       "      <td>772.000000</td>\n",
       "      <td>830.250000</td>\n",
       "    </tr>\n",
       "    <tr>\n",
       "      <td>max</td>\n",
       "      <td>936.000000</td>\n",
       "      <td>968.000000</td>\n",
       "      <td>977.000000</td>\n",
       "      <td>955.000000</td>\n",
       "    </tr>\n",
       "  </tbody>\n",
       "</table>\n",
       "</div>"
      ],
      "text/plain": [
       "             FCAS  DEV. BEHAVIOR  USER ACTIVITY  MARKET MATURITY\n",
       "count  133.000000     133.000000     133.000000       132.000000\n",
       "mean   609.285714     671.270677     538.834586       760.757576\n",
       "std    218.683962     223.189148     264.603568        92.527786\n",
       "min    151.000000     113.000000      22.000000       533.000000\n",
       "25%    463.000000     485.000000     374.000000       720.000000\n",
       "50%    674.000000     739.000000     555.000000       777.000000\n",
       "75%    792.000000     862.000000     772.000000       830.250000\n",
       "max    936.000000     968.000000     977.000000       955.000000"
      ]
     },
     "execution_count": 5,
     "metadata": {},
     "output_type": "execute_result"
    }
   ],
   "source": [
    "fcas_df.describe()"
   ]
  },
  {
   "cell_type": "markdown",
   "metadata": {},
   "source": [
    "## 1.2 - Data Cleaning"
   ]
  },
  {
   "cell_type": "markdown",
   "metadata": {},
   "source": [
    "- Removing non numerical characters and converting to float type for all columns that will be used for analysis.\n",
    "- Removing outliers (high market cap coins)"
   ]
  },
  {
   "cell_type": "code",
   "execution_count": 6,
   "metadata": {},
   "outputs": [],
   "source": [
    "fcas_df['MARKET CAP'] = fcas_df['MARKET CAP'].astype(str)"
   ]
  },
  {
   "cell_type": "code",
   "execution_count": 7,
   "metadata": {
    "scrolled": true
   },
   "outputs": [],
   "source": [
    "fcas_df['MARKET CAP'] = fcas_df['MARKET CAP'].str.replace('$','').str.replace(',','')\n",
    "fcas_df['MARKET CAP'] = fcas_df['MARKET CAP'].astype(float)\n",
    "fcas_df['FCAS'] = fcas_df['FCAS'].astype(float)\n",
    "fcas_df['DEV. BEHAVIOR'] = fcas_df['DEV. BEHAVIOR'].astype(float)\n",
    "fcas_df['USER ACTIVITY'] = fcas_df['USER ACTIVITY'].astype(float)\n",
    "fcas_df['MARKET MATURITY'] = fcas_df['MARKET MATURITY'].astype(float)"
   ]
  },
  {
   "cell_type": "markdown",
   "metadata": {},
   "source": [
    "Coins with a Market Cap above 3Billion will be removed because they are outliers prevent picks being destributed across all market cap ranges. At the time of writing this code, there are four coins: Ripple, Chainlink, Litecoin, and Binance Coin."
   ]
  },
  {
   "cell_type": "code",
   "execution_count": 8,
   "metadata": {},
   "outputs": [],
   "source": [
    "fcas_df = fcas_df.loc[fcas_df['MARKET CAP'] < 3000000000]"
   ]
  },
  {
   "cell_type": "code",
   "execution_count": 9,
   "metadata": {},
   "outputs": [],
   "source": [
    "fcas_df['1D'] = fcas_df['1D'].str.replace('%','')\n",
    "fcas_df['5D'] = fcas_df['5D'].str.replace('%','')\n",
    "fcas_df['1M'] = fcas_df['1M'].str.replace('%','')\n",
    "fcas_df['6M'] = fcas_df['6M'].str.replace('%','')\n",
    "fcas_df['1Y'] = fcas_df['1Y'].str.replace('%','')\n",
    "\n",
    "fcas_df['1D'] = fcas_df['1D'].astype(float)\n",
    "fcas_df['5D'] = fcas_df['5D'].astype(float)\n",
    "fcas_df['1M'] = fcas_df['1M'].astype(float)\n",
    "fcas_df['6M'] = fcas_df['6M'].astype(float)\n",
    "fcas_df['1Y'] = fcas_df['1Y'].astype(float)"
   ]
  },
  {
   "cell_type": "markdown",
   "metadata": {},
   "source": [
    "## 1.3 - Determining FCAS and Mcap Relationships"
   ]
  },
  {
   "cell_type": "markdown",
   "metadata": {},
   "source": [
    "Below are four scaterplots. On the x-axis is all 4 different FCAS types (comprehensive, dev, user, and market maturity). On the y-axis of all plots is the market caps of coins. This shows the relationship between each set and their correlation."
   ]
  },
  {
   "cell_type": "code",
   "execution_count": 10,
   "metadata": {},
   "outputs": [
    {
     "name": "stdout",
     "output_type": "stream",
     "text": [
      "FCAS Correlation\n",
      "[[1.         0.44137275]\n",
      " [0.44137275 1.        ]]\n",
      "\n",
      "\n",
      "Dev FCAS Correlation\n",
      "[[1.         0.32728936]\n",
      " [0.32728936 1.        ]]\n",
      "\n",
      "\n",
      "User FCAS Correlation\n",
      "[[1.         0.46825123]\n",
      " [0.46825123 1.        ]]\n",
      "\n",
      "\n",
      "Market Maturity FCAS Correlation\n",
      "[[nan nan]\n",
      " [nan  1.]]\n",
      "\n",
      "\n"
     ]
    }
   ],
   "source": [
    "import matplotlib.pyplot as plt\n",
    "\n",
    "fig = plt.figure(figsize=(12,10))\n",
    "ax1 = fig.add_subplot(2,2,1)\n",
    "ax2 = fig.add_subplot(2,2,2)\n",
    "ax3 = fig.add_subplot(2,2,3)\n",
    "ax4 = fig.add_subplot(2,2,4)\n",
    "\n",
    "ax1.scatter(fcas_df['FCAS'], fcas_df['MARKET CAP'])\n",
    "ax1.set_xlabel('FCAS')\n",
    "ax1.set_ylabel('Market Cap in dollars')\n",
    "ax1.set_title('Comprehensive FCAS')\n",
    "\n",
    "ax2.scatter(fcas_df['DEV. BEHAVIOR'], fcas_df['MARKET CAP'])\n",
    "ax2.set_xlabel('Dev FCAS')\n",
    "ax2.set_ylabel('Market Cap in dollars')\n",
    "ax2.set_title('Developer FCAS')\n",
    "\n",
    "ax3.scatter(fcas_df['USER ACTIVITY'], fcas_df['MARKET CAP'])\n",
    "ax3.set_xlabel('User FCAS')\n",
    "ax3.set_ylabel('Market Cap in dollars')\n",
    "ax3.set_title('User Activity FCAS')\n",
    "\n",
    "ax4.scatter(fcas_df['MARKET MATURITY'], fcas_df['MARKET CAP'])\n",
    "ax4.set_xlabel('Market Maturity FCAS')\n",
    "ax4.set_ylabel('Market Cap in dollars')\n",
    "ax4.set_title('Market Maturity FCAS')\n",
    "\n",
    "print('FCAS Correlation')\n",
    "print(np.corrcoef(fcas_df['FCAS'], fcas_df['MARKET CAP']))\n",
    "print('\\n')\n",
    "print('Dev FCAS Correlation')\n",
    "print(np.corrcoef(fcas_df['DEV. BEHAVIOR'], fcas_df['MARKET CAP']))\n",
    "print('\\n')\n",
    "print('User FCAS Correlation')\n",
    "print(np.corrcoef(fcas_df['USER ACTIVITY'], fcas_df['MARKET CAP']))\n",
    "print('\\n')\n",
    "print('Market Maturity FCAS Correlation')\n",
    "print(np.corrcoef(fcas_df['MARKET MATURITY'], fcas_df['MARKET CAP']))\n",
    "print('\\n')"
   ]
  },
  {
   "cell_type": "markdown",
   "metadata": {},
   "source": [
    "## 1.4 - Normalizing FCAS and Mcap Relationships"
   ]
  },
  {
   "cell_type": "markdown",
   "metadata": {},
   "source": [
    "Need to normalize market cap with a log tranformation so as to work with a linear relationship instead of an exponential one. This is not a reliable mechanism for normalizing data because it underepresents how the importance of FCAS is exponential higher at the highest levels. This will be compensated for later with a Farazdaghi-Harris Model for normalized analysis."
   ]
  },
  {
   "cell_type": "code",
   "execution_count": 11,
   "metadata": {},
   "outputs": [],
   "source": [
    "fcas_df['norm_mcap'] = np.log(fcas_df['MARKET CAP'])"
   ]
  },
  {
   "cell_type": "code",
   "execution_count": 12,
   "metadata": {},
   "outputs": [
    {
     "data": {
      "text/plain": [
       "array([[1.        , 0.59389552],\n",
       "       [0.59389552, 1.        ]])"
      ]
     },
     "execution_count": 12,
     "metadata": {},
     "output_type": "execute_result"
    },
    {
     "data": {
      "image/png": "[encoded data removed]",
      "text/plain": [
       "<Figure size 720x360 with 1 Axes>"
      ]
     },
     "metadata": {
      "needs_background": "light"
     },
     "output_type": "display_data"
    }
   ],
   "source": [
    "fig, ax = plt.subplots(figsize=(10,5))\n",
    "fcas = fcas_df['DEV. BEHAVIOR']\n",
    "mcap = fcas_df['norm_mcap']\n",
    "ax.scatter(fcas, mcap)\n",
    "\n",
    "ax.set_xlabel('Dev FCAS')\n",
    "ax.set_ylabel('Log-normalized Market Cap')\n",
    "ax.set_title('Normalized Developer FCAS/Mcap Relationship')\n",
    "\n",
    "np.corrcoef(mcap, fcas)"
   ]
  },
  {
   "cell_type": "code",
   "execution_count": 13,
   "metadata": {
    "scrolled": true
   },
   "outputs": [
    {
     "data": {
      "text/plain": [
       "<matplotlib.axes._subplots.AxesSubplot at 0x1d03cfe9408>"
      ]
     },
     "execution_count": 13,
     "metadata": {},
     "output_type": "execute_result"
    },
    {
     "data": {
      "image/png": "[encoded data removed]",
      "text/plain": [
       "<Figure size 432x288 with 1 Axes>"
      ]
     },
     "metadata": {
      "needs_background": "light"
     },
     "output_type": "display_data"
    }
   ],
   "source": [
    "import seaborn as sns\n",
    "sns.regplot(fcas_df['DEV. BEHAVIOR'],fcas_df['norm_mcap'])"
   ]
  },
  {
   "cell_type": "code",
   "execution_count": 14,
   "metadata": {},
   "outputs": [
    {
     "data": {
      "image/png": "[encoded data removed]",
      "text/plain": [
       "<Figure size 432x288 with 1 Axes>"
      ]
     },
     "metadata": {
      "needs_background": "light"
     },
     "output_type": "display_data"
    },
    {
     "name": "stderr",
     "output_type": "stream",
     "text": [
      "C:\\Users\\Evan McFarland\\Anaconda3\\lib\\site-packages\\numpy\\core\\fromnumeric.py:2389: FutureWarning: Method .ptp is deprecated and will be removed in a future version. Use numpy.ptp instead.\n",
      "  return ptp(axis=axis, out=out, **kwargs)\n"
     ]
    },
    {
     "data": {
      "text/html": [
       "<table class=\"simpletable\">\n",
       "<caption>OLS Regression Results</caption>\n",
       "<tr>\n",
       "  <th>Dep. Variable:</th>        <td>norm_mcap</td>    <th>  R-squared:         </th> <td>   0.353</td>\n",
       "</tr>\n",
       "<tr>\n",
       "  <th>Model:</th>                   <td>OLS</td>       <th>  Adj. R-squared:    </th> <td>   0.348</td>\n",
       "</tr>\n",
       "<tr>\n",
       "  <th>Method:</th>             <td>Least Squares</td>  <th>  F-statistic:       </th> <td>   69.75</td>\n",
       "</tr>\n",
       "<tr>\n",
       "  <th>Date:</th>             <td>Sat, 05 Sep 2020</td> <th>  Prob (F-statistic):</th> <td>9.51e-14</td>\n",
       "</tr>\n",
       "<tr>\n",
       "  <th>Time:</th>                 <td>11:06:43</td>     <th>  Log-Likelihood:    </th> <td> -229.81</td>\n",
       "</tr>\n",
       "<tr>\n",
       "  <th>No. Observations:</th>      <td>   130</td>      <th>  AIC:               </th> <td>   463.6</td>\n",
       "</tr>\n",
       "<tr>\n",
       "  <th>Df Residuals:</th>          <td>   128</td>      <th>  BIC:               </th> <td>   469.4</td>\n",
       "</tr>\n",
       "<tr>\n",
       "  <th>Df Model:</th>              <td>     1</td>      <th>                     </th>     <td> </td>   \n",
       "</tr>\n",
       "<tr>\n",
       "  <th>Covariance Type:</th>      <td>nonrobust</td>    <th>                     </th>     <td> </td>   \n",
       "</tr>\n",
       "</table>\n",
       "<table class=\"simpletable\">\n",
       "<tr>\n",
       "        <td></td>           <th>coef</th>     <th>std err</th>      <th>t</th>      <th>P>|t|</th>  <th>[0.025</th>    <th>0.975]</th>  \n",
       "</tr>\n",
       "<tr>\n",
       "  <th>const</th>         <td>   14.7334</td> <td>    0.395</td> <td>   37.262</td> <td> 0.000</td> <td>   13.951</td> <td>   15.516</td>\n",
       "</tr>\n",
       "<tr>\n",
       "  <th>DEV. BEHAVIOR</th> <td>    0.0047</td> <td>    0.001</td> <td>    8.352</td> <td> 0.000</td> <td>    0.004</td> <td>    0.006</td>\n",
       "</tr>\n",
       "</table>\n",
       "<table class=\"simpletable\">\n",
       "<tr>\n",
       "  <th>Omnibus:</th>       <td> 1.691</td> <th>  Durbin-Watson:     </th> <td>   1.647</td>\n",
       "</tr>\n",
       "<tr>\n",
       "  <th>Prob(Omnibus):</th> <td> 0.429</td> <th>  Jarque-Bera (JB):  </th> <td>   1.286</td>\n",
       "</tr>\n",
       "<tr>\n",
       "  <th>Skew:</th>          <td> 0.227</td> <th>  Prob(JB):          </th> <td>   0.526</td>\n",
       "</tr>\n",
       "<tr>\n",
       "  <th>Kurtosis:</th>      <td> 3.175</td> <th>  Cond. No.          </th> <td>2.22e+03</td>\n",
       "</tr>\n",
       "</table><br/><br/>Warnings:<br/>[1] Standard Errors assume that the covariance matrix of the errors is correctly specified.<br/>[2] The condition number is large, 2.22e+03. This might indicate that there are<br/>strong multicollinearity or other numerical problems."
      ],
      "text/plain": [
       "<class 'statsmodels.iolib.summary.Summary'>\n",
       "\"\"\"\n",
       "                            OLS Regression Results                            \n",
       "==============================================================================\n",
       "Dep. Variable:              norm_mcap   R-squared:                       0.353\n",
       "Model:                            OLS   Adj. R-squared:                  0.348\n",
       "Method:                 Least Squares   F-statistic:                     69.75\n",
       "Date:                Sat, 05 Sep 2020   Prob (F-statistic):           9.51e-14\n",
       "Time:                        11:06:43   Log-Likelihood:                -229.81\n",
       "No. Observations:                 130   AIC:                             463.6\n",
       "Df Residuals:                     128   BIC:                             469.4\n",
       "Df Model:                           1                                         \n",
       "Covariance Type:            nonrobust                                         \n",
       "=================================================================================\n",
       "                    coef    std err          t      P>|t|      [0.025      0.975]\n",
       "---------------------------------------------------------------------------------\n",
       "const            14.7334      0.395     37.262      0.000      13.951      15.516\n",
       "DEV. BEHAVIOR     0.0047      0.001      8.352      0.000       0.004       0.006\n",
       "==============================================================================\n",
       "Omnibus:                        1.691   Durbin-Watson:                   1.647\n",
       "Prob(Omnibus):                  0.429   Jarque-Bera (JB):                1.286\n",
       "Skew:                           0.227   Prob(JB):                        0.526\n",
       "Kurtosis:                       3.175   Cond. No.                     2.22e+03\n",
       "==============================================================================\n",
       "\n",
       "Warnings:\n",
       "[1] Standard Errors assume that the covariance matrix of the errors is correctly specified.\n",
       "[2] The condition number is large, 2.22e+03. This might indicate that there are\n",
       "strong multicollinearity or other numerical problems.\n",
       "\"\"\""
      ]
     },
     "execution_count": 14,
     "metadata": {},
     "output_type": "execute_result"
    }
   ],
   "source": [
    "import statsmodels.api as sm\n",
    "\n",
    "x1 = fcas_df['DEV. BEHAVIOR']\n",
    "y = fcas_df['norm_mcap']\n",
    "\n",
    "plt.scatter(x1,y)\n",
    "yhat = 0.0143*x1 + 11\n",
    "fig = plt.plot(x1, yhat, lw=4, c='orange', label = 'regression line')\n",
    "plt.xlabel('Dev Score', fontsize = 20)\n",
    "plt.ylabel('Log-normalized Market Cap', fontsize = 20)\n",
    "plt.show()\n",
    "\n",
    "x = sm.add_constant(x1)\n",
    "results = sm.OLS(y,x).fit()\n",
    "results.summary()"
   ]
  },
  {
   "cell_type": "code",
   "execution_count": 15,
   "metadata": {},
   "outputs": [],
   "source": [
    "# x1 = fcas_df['DEV. BEHAVIOR']\n",
    "# y = fcas_df['norm_mcap']\n",
    "\n",
    "# a = 7.39E-2\n",
    "# b = -9.94448E-11\n",
    "# c = 2.83\n",
    "\n",
    "# plt.scatter(x1,y)\n",
    "# yhat = (1 / (a+b*x1**c))\n",
    "# fig = plt.plot(x1, yhat, lw=2, c='orange', label = 'regression line')\n",
    "# plt.xlabel('Dev Score', fontsize = 20)\n",
    "# plt.ylabel('Log-normalized Market Cap', fontsize = 20)\n",
    "# plt.show()"
   ]
  },
  {
   "cell_type": "code",
   "execution_count": 16,
   "metadata": {
    "scrolled": true
   },
   "outputs": [],
   "source": [
    "x1 = fcas_df['DEV. BEHAVIOR']\n",
    "fcas_df['theoretical_dev_norm_mcap'] = yhat\n",
    "fcas_df['dev_mcap'] = fcas_df['theoretical_dev_norm_mcap'] - fcas_df['norm_mcap']\n",
    "# fcas_df['diff_theoretical_dev_norm_mcap'] = fcas_df['diff_theoretical_dev_norm_mcap'] * (15.2823 / 0.0042)"
   ]
  },
  {
   "cell_type": "code",
   "execution_count": 17,
   "metadata": {},
   "outputs": [],
   "source": [
    "stdev = fcas_df['dev_mcap'].std()\n",
    "mean = fcas_df['dev_mcap'].mean()\n",
    "fcas_df['dev_zscore'] = (fcas_df['dev_mcap'] - mean) / stdev"
   ]
  },
  {
   "cell_type": "code",
   "execution_count": 18,
   "metadata": {},
   "outputs": [
    {
     "data": {
      "text/plain": [
       "<matplotlib.axes._subplots.AxesSubplot at 0x1d03dac9bc8>"
      ]
     },
     "execution_count": 18,
     "metadata": {},
     "output_type": "execute_result"
    },
    {
     "data": {
      "image/png": "[encoded data removed]",
      "text/plain": [
       "<Figure size 432x288 with 1 Axes>"
      ]
     },
     "metadata": {
      "needs_background": "light"
     },
     "output_type": "display_data"
    }
   ],
   "source": [
    "import seaborn as sns\n",
    "sns.regplot(fcas_df['norm_mcap'],fcas_df['dev_zscore'])"
   ]
  },
  {
   "cell_type": "code",
   "execution_count": 19,
   "metadata": {},
   "outputs": [],
   "source": [
    "fcas_df['dev_zscore'] = (fcas_df['norm_mcap']**4.5 / 117135) * fcas_df['dev_zscore']"
   ]
  },
  {
   "cell_type": "code",
   "execution_count": 20,
   "metadata": {},
   "outputs": [
    {
     "data": {
      "text/plain": [
       "<matplotlib.axes._subplots.AxesSubplot at 0x1d03db50c48>"
      ]
     },
     "execution_count": 20,
     "metadata": {},
     "output_type": "execute_result"
    },
    {
     "data": {
      "image/png": "[encoded data removed]",
      "text/plain": [
       "<Figure size 432x288 with 1 Axes>"
      ]
     },
     "metadata": {
      "needs_background": "light"
     },
     "output_type": "display_data"
    }
   ],
   "source": [
    "sns.regplot(fcas_df['norm_mcap'],fcas_df['dev_zscore'])"
   ]
  },
  {
   "cell_type": "markdown",
   "metadata": {},
   "source": [
    "# 1.5 - Assigning a Technology Valuation Metric (dev_zscore)"
   ]
  },
  {
   "cell_type": "code",
   "execution_count": 21,
   "metadata": {},
   "outputs": [],
   "source": [
    "stdev = fcas_df['dev_zscore'].std()\n",
    "mean = fcas_df['dev_zscore'].mean()\n",
    "fcas_df['dev_zscore'] = (fcas_df['dev_zscore'] - mean) / stdev"
   ]
  },
  {
   "cell_type": "code",
   "execution_count": 22,
   "metadata": {},
   "outputs": [
    {
     "data": {
      "text/plain": [
       "<matplotlib.axes._subplots.AxesSubplot at 0x1d03dbb5f88>"
      ]
     },
     "execution_count": 22,
     "metadata": {},
     "output_type": "execute_result"
    },
    {
     "data": {
      "image/png": "[encoded data removed]",
      "text/plain": [
       "<Figure size 432x288 with 1 Axes>"
      ]
     },
     "metadata": {
      "needs_background": "light"
     },
     "output_type": "display_data"
    }
   ],
   "source": [
    "sns.regplot(fcas_df['norm_mcap'],fcas_df['dev_zscore'])"
   ]
  },
  {
   "cell_type": "markdown",
   "metadata": {},
   "source": [
    "# 1.6 - Normalizing Change in FCAS\n",
    "### Relative Importance For Each Timeframe\n",
    "- 1Day - 5%\n",
    "- 5Day - 25%\n",
    "- 1Month - 45%\n",
    "- 6Month - 15%\n",
    "- 1Year - 10%"
   ]
  },
  {
   "cell_type": "code",
   "execution_count": 23,
   "metadata": {},
   "outputs": [
    {
     "name": "stdout",
     "output_type": "stream",
     "text": [
      "7.632783294297952e-18\n",
      "-3.505475824146979e-17\n",
      "7.539375107129969e-18\n",
      "0.0\n",
      "9.494169119314334e-17\n",
      "\n",
      "\n",
      "1.000000000000001\n",
      "1.0\n",
      "1.0\n",
      "0.9999999999999997\n",
      "1.0\n"
     ]
    }
   ],
   "source": [
    "mean = fcas_df['1D'].mean()\n",
    "stdev = fcas_df['1D'].std()\n",
    "fcas_df['1D_zscore'] = (fcas_df['1D'] - mean) / stdev\n",
    "\n",
    "mean = fcas_df['5D'].mean()\n",
    "stdev = fcas_df['5D'].std()\n",
    "fcas_df['5D_zscore'] = (fcas_df['5D'] - mean) / stdev\n",
    "\n",
    "mean = fcas_df['1M'].mean()\n",
    "stdev = fcas_df['1M'].std()\n",
    "fcas_df['1M_zscore'] = (fcas_df['1M'] - mean) / stdev\n",
    "\n",
    "mean = fcas_df['6M'].mean()\n",
    "stdev = fcas_df['6M'].std()\n",
    "fcas_df['6M_zscore'] = (fcas_df['6M'] - mean) / stdev\n",
    "\n",
    "mean = fcas_df['1Y'].mean()\n",
    "stdev = fcas_df['1Y'].std()\n",
    "fcas_df['1Y_zscore'] = (fcas_df['1Y'] - mean) / stdev\n",
    "\n",
    "print(fcas_df['1D_zscore'].mean())\n",
    "print(fcas_df['5D_zscore'].mean())\n",
    "print(fcas_df['1M_zscore'].mean())\n",
    "print(fcas_df['6M_zscore'].mean())\n",
    "print(fcas_df['1Y_zscore'].mean())\n",
    "print('\\n')\n",
    "print(fcas_df['1D_zscore'].std())\n",
    "print(fcas_df['5D_zscore'].std())\n",
    "print(fcas_df['1M_zscore'].std())\n",
    "print(fcas_df['6M_zscore'].std())\n",
    "print(fcas_df['1Y_zscore'].std())\n",
    "#We can confirm that these results are acurate because all the z-scores have an mean of zero and a standard deviation of 1"
   ]
  },
  {
   "cell_type": "code",
   "execution_count": 24,
   "metadata": {},
   "outputs": [],
   "source": [
    "fcas_df['1D_zscore_proportion'] = fcas_df['1D_zscore'] *0.05\n",
    "fcas_df['5D_zscore_proportion'] = fcas_df['5D_zscore'] *0.25\n",
    "fcas_df['1M_zscore_proportion'] = fcas_df['1M_zscore'] *0.45\n",
    "fcas_df['6M_zscore_proportion'] = fcas_df['6M_zscore'] *0.15\n",
    "fcas_df['1Y_zscore_proportion'] = fcas_df['1Y_zscore'] *0.10\n",
    "\n",
    "fcas_df['%change_zscore'] = ((fcas_df['1D_zscore_proportion'] + fcas_df['5D_zscore_proportion']\\\n",
    "+ fcas_df['1M_zscore_proportion'] + fcas_df['6M_zscore_proportion'] + fcas_df['1Y_zscore_proportion'])\\\n",
    "* (fcas_df['norm_mcap']**4.5 / 117135)) # This equation is used to give a higher signficance to %changes for those with \n",
    "# higher Mcap, i.e., a 1 day %change of 5 is not a big deal for small crytos but is a big deal for larger cryptos"
   ]
  },
  {
   "cell_type": "markdown",
   "metadata": {},
   "source": [
    "# 1.7 - Assigning a Change in FCAS Valuation Metric (%change_zscore)"
   ]
  },
  {
   "cell_type": "code",
   "execution_count": 25,
   "metadata": {},
   "outputs": [],
   "source": [
    "stdev = fcas_df['%change_zscore'].std()\n",
    "mean = fcas_df['%change_zscore'].mean()\n",
    "fcas_df['%change_zscore'] = (fcas_df['%change_zscore'] - mean) / stdev"
   ]
  },
  {
   "cell_type": "code",
   "execution_count": 26,
   "metadata": {},
   "outputs": [
    {
     "data": {
      "text/plain": [
       "<matplotlib.axes._subplots.AxesSubplot at 0x1d03dc27e48>"
      ]
     },
     "execution_count": 26,
     "metadata": {},
     "output_type": "execute_result"
    },
    {
     "data": {
      "image/png": "[encoded data removed]",
      "text/plain": [
       "<Figure size 432x288 with 1 Axes>"
      ]
     },
     "metadata": {
      "needs_background": "light"
     },
     "output_type": "display_data"
    }
   ],
   "source": [
    "sns.regplot(fcas_df['norm_mcap'],fcas_df['%change_zscore'])"
   ]
  },
  {
   "cell_type": "markdown",
   "metadata": {},
   "source": [
    "# 1.8 - Combining dev_score and %change_zscore Into Final Valuation Score"
   ]
  },
  {
   "cell_type": "code",
   "execution_count": 27,
   "metadata": {},
   "outputs": [
    {
     "data": {
      "text/plain": [
       "<matplotlib.axes._subplots.AxesSubplot at 0x1d03dcad1c8>"
      ]
     },
     "execution_count": 27,
     "metadata": {},
     "output_type": "execute_result"
    },
    {
     "data": {
      "image/png": "[encoded data removed]",
      "text/plain": [
       "<Figure size 432x288 with 1 Axes>"
      ]
     },
     "metadata": {
      "needs_background": "light"
     },
     "output_type": "display_data"
    }
   ],
   "source": [
    "fcas_df['Final Score'] = fcas_df['%change_zscore'] + fcas_df['dev_zscore']\n",
    "\n",
    "sns.regplot(fcas_df['norm_mcap'],fcas_df['Final Score'])"
   ]
  },
  {
   "cell_type": "markdown",
   "metadata": {},
   "source": [
    "# 1.9 Fact Checking Final Valuation Score"
   ]
  },
  {
   "cell_type": "code",
   "execution_count": 28,
   "metadata": {},
   "outputs": [
    {
     "data": {
      "image/png": "[encoded data removed]",
      "text/plain": [
       "<Figure size 432x288 with 1 Axes>"
      ]
     },
     "metadata": {
      "needs_background": "light"
     },
     "output_type": "display_data"
    },
    {
     "data": {
      "text/plain": [
       "count    126.000000\n",
       "mean       0.014149\n",
       "std        1.496730\n",
       "min       -5.082453\n",
       "25%       -0.740558\n",
       "50%        0.302382\n",
       "75%        1.021595\n",
       "max        2.845765\n",
       "Name: Final Score, dtype: float64"
      ]
     },
     "execution_count": 28,
     "metadata": {},
     "output_type": "execute_result"
    }
   ],
   "source": [
    "x = fcas_df['FCAS']\n",
    "y = fcas_df['Final Score']\n",
    "\n",
    "plt.scatter(x,y)\n",
    "plt.xlabel('FCAS', fontsize = 20)\n",
    "plt.ylabel('Final Score', fontsize = 15)\n",
    "plt.axhline(y=0, color='r', linestyle='-')\n",
    "plt.title('Changes in FCAS', fontsize = 15)\n",
    "plt.show()\n",
    "fcas_df['Final Score'].describe()"
   ]
  },
  {
   "cell_type": "code",
   "execution_count": 29,
   "metadata": {},
   "outputs": [
    {
     "data": {
      "image/png": "[encoded data removed]",
      "text/plain": [
       "<Figure size 432x288 with 1 Axes>"
      ]
     },
     "metadata": {
      "needs_background": "light"
     },
     "output_type": "display_data"
    },
    {
     "data": {
      "text/plain": [
       "count    126.000000\n",
       "mean       0.014149\n",
       "std        1.496730\n",
       "min       -5.082453\n",
       "25%       -0.740558\n",
       "50%        0.302382\n",
       "75%        1.021595\n",
       "max        2.845765\n",
       "Name: Final Score, dtype: float64"
      ]
     },
     "execution_count": 29,
     "metadata": {},
     "output_type": "execute_result"
    }
   ],
   "source": [
    "x = fcas_df['norm_mcap']\n",
    "y = fcas_df['Final Score']\n",
    "\n",
    "plt.scatter(x,y)\n",
    "plt.xlabel('Log-normal Market Cap', fontsize = 20)\n",
    "plt.ylabel('Final Score', fontsize = 15)\n",
    "plt.axhline(y=1, color='g', linestyle='-')\n",
    "plt.axhline(y=0, color='r', linestyle='-')\n",
    "plt.title('Market Cap vs Final Score', fontsize = 15)\n",
    "plt.show()\n",
    "fcas_df['Final Score'].describe()"
   ]
  },
  {
   "cell_type": "markdown",
   "metadata": {},
   "source": [
    "# 1.10 - Using Final Valuation Score to Clean Data"
   ]
  },
  {
   "cell_type": "code",
   "execution_count": 30,
   "metadata": {
    "scrolled": true
   },
   "outputs": [],
   "source": [
    "fcas_df = fcas_df.loc[fcas_df['Final Score'] > 1.5]"
   ]
  },
  {
   "cell_type": "code",
   "execution_count": 31,
   "metadata": {},
   "outputs": [
    {
     "data": {
      "text/html": [
       "<div>\n",
       "<style scoped>\n",
       "    .dataframe tbody tr th:only-of-type {\n",
       "        vertical-align: middle;\n",
       "    }\n",
       "\n",
       "    .dataframe tbody tr th {\n",
       "        vertical-align: top;\n",
       "    }\n",
       "\n",
       "    .dataframe thead th {\n",
       "        text-align: right;\n",
       "    }\n",
       "</style>\n",
       "<table border=\"1\" class=\"dataframe\">\n",
       "  <thead>\n",
       "    <tr style=\"text-align: right;\">\n",
       "      <th></th>\n",
       "      <th>MARKET CAP</th>\n",
       "      <th>FCAS</th>\n",
       "      <th>DEV. BEHAVIOR</th>\n",
       "      <th>USER ACTIVITY</th>\n",
       "      <th>MARKET MATURITY</th>\n",
       "      <th>1D</th>\n",
       "      <th>5D</th>\n",
       "      <th>1M</th>\n",
       "      <th>6M</th>\n",
       "      <th>1Y</th>\n",
       "      <th>1D.1</th>\n",
       "      <th>5D.1</th>\n",
       "      <th>1M.1</th>\n",
       "      <th>6M.1</th>\n",
       "      <th>1Y.1</th>\n",
       "      <th>1D.2</th>\n",
       "      <th>5D.2</th>\n",
       "      <th>1M.2</th>\n",
       "      <th>6M.2</th>\n",
       "      <th>1Y.2</th>\n",
       "      <th>1D.3</th>\n",
       "      <th>5D.3</th>\n",
       "      <th>1M.3</th>\n",
       "      <th>6M.3</th>\n",
       "      <th>1Y.3</th>\n",
       "      <th>norm_mcap</th>\n",
       "      <th>theoretical_dev_norm_mcap</th>\n",
       "      <th>dev_mcap</th>\n",
       "      <th>dev_zscore</th>\n",
       "      <th>1D_zscore</th>\n",
       "      <th>5D_zscore</th>\n",
       "      <th>1M_zscore</th>\n",
       "      <th>6M_zscore</th>\n",
       "      <th>1Y_zscore</th>\n",
       "      <th>1D_zscore_proportion</th>\n",
       "      <th>5D_zscore_proportion</th>\n",
       "      <th>1M_zscore_proportion</th>\n",
       "      <th>6M_zscore_proportion</th>\n",
       "      <th>1Y_zscore_proportion</th>\n",
       "      <th>%change_zscore</th>\n",
       "      <th>Final Score</th>\n",
       "    </tr>\n",
       "    <tr>\n",
       "      <th>PROJECT</th>\n",
       "      <th></th>\n",
       "      <th></th>\n",
       "      <th></th>\n",
       "      <th></th>\n",
       "      <th></th>\n",
       "      <th></th>\n",
       "      <th></th>\n",
       "      <th></th>\n",
       "      <th></th>\n",
       "      <th></th>\n",
       "      <th></th>\n",
       "      <th></th>\n",
       "      <th></th>\n",
       "      <th></th>\n",
       "      <th></th>\n",
       "      <th></th>\n",
       "      <th></th>\n",
       "      <th></th>\n",
       "      <th></th>\n",
       "      <th></th>\n",
       "      <th></th>\n",
       "      <th></th>\n",
       "      <th></th>\n",
       "      <th></th>\n",
       "      <th></th>\n",
       "      <th></th>\n",
       "      <th></th>\n",
       "      <th></th>\n",
       "      <th></th>\n",
       "      <th></th>\n",
       "      <th></th>\n",
       "      <th></th>\n",
       "      <th></th>\n",
       "      <th></th>\n",
       "      <th></th>\n",
       "      <th></th>\n",
       "      <th></th>\n",
       "      <th></th>\n",
       "      <th></th>\n",
       "      <th></th>\n",
       "      <th></th>\n",
       "    </tr>\n",
       "  </thead>\n",
       "  <tbody>\n",
       "    <tr>\n",
       "      <td>Gas GAS</td>\n",
       "      <td>1.646063e+07</td>\n",
       "      <td>814.0</td>\n",
       "      <td>861.0</td>\n",
       "      <td>772.0</td>\n",
       "      <td>731.0</td>\n",
       "      <td>0.12</td>\n",
       "      <td>0.61</td>\n",
       "      <td>5.57</td>\n",
       "      <td>8.67</td>\n",
       "      <td>8.24</td>\n",
       "      <td>0.00%</td>\n",
       "      <td>-0.12%</td>\n",
       "      <td>0.46%</td>\n",
       "      <td>8.98%</td>\n",
       "      <td>5.64%</td>\n",
       "      <td>0.12%</td>\n",
       "      <td>1.57%</td>\n",
       "      <td>14.88%</td>\n",
       "      <td>9.34%</td>\n",
       "      <td>9.50%</td>\n",
       "      <td>0.41%</td>\n",
       "      <td>0.13%</td>\n",
       "      <td>-0.28%</td>\n",
       "      <td>3.39%</td>\n",
       "      <td>21.83%</td>\n",
       "      <td>16.616482</td>\n",
       "      <td>23.3123</td>\n",
       "      <td>6.695818</td>\n",
       "      <td>1.101040</td>\n",
       "      <td>0.357987</td>\n",
       "      <td>0.397676</td>\n",
       "      <td>0.614265</td>\n",
       "      <td>0.271439</td>\n",
       "      <td>0.050244</td>\n",
       "      <td>0.017899</td>\n",
       "      <td>0.099419</td>\n",
       "      <td>0.276419</td>\n",
       "      <td>0.040716</td>\n",
       "      <td>0.005024</td>\n",
       "      <td>0.472916</td>\n",
       "      <td>1.573956</td>\n",
       "    </tr>\n",
       "    <tr>\n",
       "      <td>OmiseGO OMG</td>\n",
       "      <td>5.372790e+08</td>\n",
       "      <td>856.0</td>\n",
       "      <td>842.0</td>\n",
       "      <td>867.0</td>\n",
       "      <td>890.0</td>\n",
       "      <td>0.00</td>\n",
       "      <td>-0.35</td>\n",
       "      <td>7.00</td>\n",
       "      <td>17.42</td>\n",
       "      <td>7.67</td>\n",
       "      <td>0.11%</td>\n",
       "      <td>-0.12%</td>\n",
       "      <td>3.43%</td>\n",
       "      <td>14.71%</td>\n",
       "      <td>2.18%</td>\n",
       "      <td>0.00%</td>\n",
       "      <td>-0.58%</td>\n",
       "      <td>10.44%</td>\n",
       "      <td>22.11%</td>\n",
       "      <td>12.45%</td>\n",
       "      <td>-0.23%</td>\n",
       "      <td>-0.34%</td>\n",
       "      <td>12.09%</td>\n",
       "      <td>11.94%</td>\n",
       "      <td>20.43%</td>\n",
       "      <td>20.102028</td>\n",
       "      <td>23.0406</td>\n",
       "      <td>2.938572</td>\n",
       "      <td>0.154397</td>\n",
       "      <td>0.253465</td>\n",
       "      <td>0.126977</td>\n",
       "      <td>0.783731</td>\n",
       "      <td>0.830772</td>\n",
       "      <td>0.023835</td>\n",
       "      <td>0.012673</td>\n",
       "      <td>0.031744</td>\n",
       "      <td>0.352679</td>\n",
       "      <td>0.124616</td>\n",
       "      <td>0.002384</td>\n",
       "      <td>1.439914</td>\n",
       "      <td>1.594311</td>\n",
       "    </tr>\n",
       "    <tr>\n",
       "      <td>Golem GNT</td>\n",
       "      <td>1.154146e+08</td>\n",
       "      <td>717.0</td>\n",
       "      <td>886.0</td>\n",
       "      <td>488.0</td>\n",
       "      <td>813.0</td>\n",
       "      <td>-0.28</td>\n",
       "      <td>-0.97</td>\n",
       "      <td>5.59</td>\n",
       "      <td>9.29</td>\n",
       "      <td>5.90</td>\n",
       "      <td>-0.12%</td>\n",
       "      <td>-0.12%</td>\n",
       "      <td>1.83%</td>\n",
       "      <td>4.11%</td>\n",
       "      <td>0.22%</td>\n",
       "      <td>-0.82%</td>\n",
       "      <td>-3.18%</td>\n",
       "      <td>12.96%</td>\n",
       "      <td>19.90%</td>\n",
       "      <td>12.96%</td>\n",
       "      <td>-0.13%</td>\n",
       "      <td>0.24%</td>\n",
       "      <td>11.52%</td>\n",
       "      <td>16.97%</td>\n",
       "      <td>31.98%</td>\n",
       "      <td>18.564041</td>\n",
       "      <td>23.6698</td>\n",
       "      <td>5.105759</td>\n",
       "      <td>1.092476</td>\n",
       "      <td>0.009581</td>\n",
       "      <td>-0.047849</td>\n",
       "      <td>0.616635</td>\n",
       "      <td>0.311072</td>\n",
       "      <td>-0.058172</td>\n",
       "      <td>0.000479</td>\n",
       "      <td>-0.011962</td>\n",
       "      <td>0.277486</td>\n",
       "      <td>0.046661</td>\n",
       "      <td>-0.005817</td>\n",
       "      <td>0.552916</td>\n",
       "      <td>1.645391</td>\n",
       "    </tr>\n",
       "    <tr>\n",
       "      <td>Komodo KMD</td>\n",
       "      <td>7.256284e+07</td>\n",
       "      <td>709.0</td>\n",
       "      <td>886.0</td>\n",
       "      <td>537.0</td>\n",
       "      <td>732.0</td>\n",
       "      <td>0.00</td>\n",
       "      <td>0.14</td>\n",
       "      <td>1.57</td>\n",
       "      <td>15.47</td>\n",
       "      <td>22.45</td>\n",
       "      <td>0.00%</td>\n",
       "      <td>-0.12%</td>\n",
       "      <td>-0.79%</td>\n",
       "      <td>0.68%</td>\n",
       "      <td>0.79%</td>\n",
       "      <td>0.00%</td>\n",
       "      <td>0.00%</td>\n",
       "      <td>-2.37%</td>\n",
       "      <td>2.28%</td>\n",
       "      <td>168.50%</td>\n",
       "      <td>-1.62%</td>\n",
       "      <td>-1.22%</td>\n",
       "      <td>5.02%</td>\n",
       "      <td>7.64%</td>\n",
       "      <td>20.00%</td>\n",
       "      <td>18.099963</td>\n",
       "      <td>23.6698</td>\n",
       "      <td>5.569837</td>\n",
       "      <td>1.162760</td>\n",
       "      <td>0.253465</td>\n",
       "      <td>0.265146</td>\n",
       "      <td>0.140232</td>\n",
       "      <td>0.706120</td>\n",
       "      <td>0.708617</td>\n",
       "      <td>0.012673</td>\n",
       "      <td>0.066286</td>\n",
       "      <td>0.063104</td>\n",
       "      <td>0.105918</td>\n",
       "      <td>0.070862</td>\n",
       "      <td>0.508197</td>\n",
       "      <td>1.670957</td>\n",
       "    </tr>\n",
       "    <tr>\n",
       "      <td>Nano NANO</td>\n",
       "      <td>1.145272e+08</td>\n",
       "      <td>648.0</td>\n",
       "      <td>785.0</td>\n",
       "      <td>500.0</td>\n",
       "      <td>780.0</td>\n",
       "      <td>0.30</td>\n",
       "      <td>1.72</td>\n",
       "      <td>4.51</td>\n",
       "      <td>22.49</td>\n",
       "      <td>21.12</td>\n",
       "      <td>0.38%</td>\n",
       "      <td>1.15%</td>\n",
       "      <td>1.55%</td>\n",
       "      <td>9.02%</td>\n",
       "      <td>-1.14%</td>\n",
       "      <td>0.00%</td>\n",
       "      <td>2.66%</td>\n",
       "      <td>2.66%</td>\n",
       "      <td>8.22%</td>\n",
       "      <td>150.00%</td>\n",
       "      <td>0.90%</td>\n",
       "      <td>0.38%</td>\n",
       "      <td>7.43%</td>\n",
       "      <td>10.79%</td>\n",
       "      <td>27.65%</td>\n",
       "      <td>18.556323</td>\n",
       "      <td>22.2255</td>\n",
       "      <td>3.669177</td>\n",
       "      <td>0.438150</td>\n",
       "      <td>0.514769</td>\n",
       "      <td>0.710671</td>\n",
       "      <td>0.488646</td>\n",
       "      <td>1.154865</td>\n",
       "      <td>0.646995</td>\n",
       "      <td>0.025738</td>\n",
       "      <td>0.177668</td>\n",
       "      <td>0.219891</td>\n",
       "      <td>0.173230</td>\n",
       "      <td>0.064700</td>\n",
       "      <td>1.260023</td>\n",
       "      <td>1.698173</td>\n",
       "    </tr>\n",
       "    <tr>\n",
       "      <td>Storj STORJ</td>\n",
       "      <td>9.644052e+07</td>\n",
       "      <td>812.0</td>\n",
       "      <td>885.0</td>\n",
       "      <td>705.0</td>\n",
       "      <td>899.0</td>\n",
       "      <td>-0.62</td>\n",
       "      <td>-0.50</td>\n",
       "      <td>5.31</td>\n",
       "      <td>6.56</td>\n",
       "      <td>24.34</td>\n",
       "      <td>-0.23%</td>\n",
       "      <td>-0.57%</td>\n",
       "      <td>-0.45%</td>\n",
       "      <td>1.25%</td>\n",
       "      <td>-0.90%</td>\n",
       "      <td>-1.27%</td>\n",
       "      <td>-0.85%</td>\n",
       "      <td>11.90%</td>\n",
       "      <td>9.64%</td>\n",
       "      <td>89.51%</td>\n",
       "      <td>-0.12%</td>\n",
       "      <td>1.92%</td>\n",
       "      <td>20.50%</td>\n",
       "      <td>36.62%</td>\n",
       "      <td>57.99%</td>\n",
       "      <td>18.384437</td>\n",
       "      <td>23.6555</td>\n",
       "      <td>5.271063</td>\n",
       "      <td>1.117506</td>\n",
       "      <td>-0.286563</td>\n",
       "      <td>0.084680</td>\n",
       "      <td>0.583452</td>\n",
       "      <td>0.136560</td>\n",
       "      <td>0.796183</td>\n",
       "      <td>-0.014328</td>\n",
       "      <td>0.021170</td>\n",
       "      <td>0.262554</td>\n",
       "      <td>0.020484</td>\n",
       "      <td>0.079618</td>\n",
       "      <td>0.646695</td>\n",
       "      <td>1.764201</td>\n",
       "    </tr>\n",
       "    <tr>\n",
       "      <td>ETHLend LEND</td>\n",
       "      <td>6.960421e+08</td>\n",
       "      <td>874.0</td>\n",
       "      <td>818.0</td>\n",
       "      <td>940.0</td>\n",
       "      <td>895.0</td>\n",
       "      <td>0.11</td>\n",
       "      <td>0.22</td>\n",
       "      <td>3.55</td>\n",
       "      <td>25.93</td>\n",
       "      <td>57.19</td>\n",
       "      <td>0.00%</td>\n",
       "      <td>0.00%</td>\n",
       "      <td>2.12%</td>\n",
       "      <td>2.76%</td>\n",
       "      <td>29.43%</td>\n",
       "      <td>0.10%</td>\n",
       "      <td>0.10%</td>\n",
       "      <td>4.91%</td>\n",
       "      <td>63.19%</td>\n",
       "      <td>97.06%</td>\n",
       "      <td>0.78%</td>\n",
       "      <td>2.28%</td>\n",
       "      <td>4.92%</td>\n",
       "      <td>36.22%</td>\n",
       "      <td>88.81%</td>\n",
       "      <td>20.360921</td>\n",
       "      <td>22.6974</td>\n",
       "      <td>2.336479</td>\n",
       "      <td>-0.251284</td>\n",
       "      <td>0.349276</td>\n",
       "      <td>0.287704</td>\n",
       "      <td>0.374878</td>\n",
       "      <td>1.374762</td>\n",
       "      <td>2.318177</td>\n",
       "      <td>0.017464</td>\n",
       "      <td>0.071926</td>\n",
       "      <td>0.168695</td>\n",
       "      <td>0.206214</td>\n",
       "      <td>0.231818</td>\n",
       "      <td>2.050919</td>\n",
       "      <td>1.799635</td>\n",
       "    </tr>\n",
       "    <tr>\n",
       "      <td>Siacoin SC</td>\n",
       "      <td>1.438525e+08</td>\n",
       "      <td>689.0</td>\n",
       "      <td>839.0</td>\n",
       "      <td>537.0</td>\n",
       "      <td>786.0</td>\n",
       "      <td>0.00</td>\n",
       "      <td>0.29</td>\n",
       "      <td>3.29</td>\n",
       "      <td>21.73</td>\n",
       "      <td>46.90</td>\n",
       "      <td>0.00%</td>\n",
       "      <td>-0.12%</td>\n",
       "      <td>0.00%</td>\n",
       "      <td>7.28%</td>\n",
       "      <td>24.85%</td>\n",
       "      <td>0.00%</td>\n",
       "      <td>0.00%</td>\n",
       "      <td>2.28%</td>\n",
       "      <td>0.00%</td>\n",
       "      <td>168.50%</td>\n",
       "      <td>0.12%</td>\n",
       "      <td>0.12%</td>\n",
       "      <td>5.64%</td>\n",
       "      <td>13.91%</td>\n",
       "      <td>41.11%</td>\n",
       "      <td>18.784299</td>\n",
       "      <td>22.9977</td>\n",
       "      <td>4.213401</td>\n",
       "      <td>0.724202</td>\n",
       "      <td>0.253465</td>\n",
       "      <td>0.307443</td>\n",
       "      <td>0.344066</td>\n",
       "      <td>1.106283</td>\n",
       "      <td>1.841425</td>\n",
       "      <td>0.012673</td>\n",
       "      <td>0.076861</td>\n",
       "      <td>0.154830</td>\n",
       "      <td>0.165942</td>\n",
       "      <td>0.184142</td>\n",
       "      <td>1.193671</td>\n",
       "      <td>1.917873</td>\n",
       "    </tr>\n",
       "    <tr>\n",
       "      <td>Ark ARK</td>\n",
       "      <td>4.042342e+07</td>\n",
       "      <td>727.0</td>\n",
       "      <td>920.0</td>\n",
       "      <td>537.0</td>\n",
       "      <td>738.0</td>\n",
       "      <td>0.13</td>\n",
       "      <td>0.27</td>\n",
       "      <td>2.68</td>\n",
       "      <td>17.63</td>\n",
       "      <td>26.43</td>\n",
       "      <td>0.00%</td>\n",
       "      <td>-0.22%</td>\n",
       "      <td>0.65%</td>\n",
       "      <td>2.79%</td>\n",
       "      <td>4.54%</td>\n",
       "      <td>0.00%</td>\n",
       "      <td>0.00%</td>\n",
       "      <td>2.28%</td>\n",
       "      <td>2.28%</td>\n",
       "      <td>168.50%</td>\n",
       "      <td>-0.14%</td>\n",
       "      <td>0.13%</td>\n",
       "      <td>-5.02%</td>\n",
       "      <td>16.22%</td>\n",
       "      <td>31.78%</td>\n",
       "      <td>17.514920</td>\n",
       "      <td>24.1560</td>\n",
       "      <td>6.641080</td>\n",
       "      <td>1.377427</td>\n",
       "      <td>0.366697</td>\n",
       "      <td>0.301803</td>\n",
       "      <td>0.271776</td>\n",
       "      <td>0.844195</td>\n",
       "      <td>0.893016</td>\n",
       "      <td>0.018335</td>\n",
       "      <td>0.075451</td>\n",
       "      <td>0.122299</td>\n",
       "      <td>0.126629</td>\n",
       "      <td>0.089302</td>\n",
       "      <td>0.604311</td>\n",
       "      <td>1.981738</td>\n",
       "    </tr>\n",
       "    <tr>\n",
       "      <td>OAX OAX</td>\n",
       "      <td>7.165380e+06</td>\n",
       "      <td>280.0</td>\n",
       "      <td>375.0</td>\n",
       "      <td>313.0</td>\n",
       "      <td>745.0</td>\n",
       "      <td>-3.12</td>\n",
       "      <td>-5.41</td>\n",
       "      <td>41.41</td>\n",
       "      <td>61.84</td>\n",
       "      <td>76.10</td>\n",
       "      <td>0.00%</td>\n",
       "      <td>0.00%</td>\n",
       "      <td>25.00%</td>\n",
       "      <td>50.00%</td>\n",
       "      <td>108.33%</td>\n",
       "      <td>-6.85%</td>\n",
       "      <td>-11.34%</td>\n",
       "      <td>148.41%</td>\n",
       "      <td>243.95%</td>\n",
       "      <td>360.29%</td>\n",
       "      <td>0.13%</td>\n",
       "      <td>0.26%</td>\n",
       "      <td>8.44%</td>\n",
       "      <td>34.71%</td>\n",
       "      <td>49.59%</td>\n",
       "      <td>15.784772</td>\n",
       "      <td>16.3625</td>\n",
       "      <td>0.577728</td>\n",
       "      <td>-0.468457</td>\n",
       "      <td>-2.464098</td>\n",
       "      <td>-1.299831</td>\n",
       "      <td>4.861600</td>\n",
       "      <td>3.670262</td>\n",
       "      <td>3.194308</td>\n",
       "      <td>-0.123205</td>\n",
       "      <td>-0.324958</td>\n",
       "      <td>2.187720</td>\n",
       "      <td>0.550539</td>\n",
       "      <td>0.319431</td>\n",
       "      <td>2.457007</td>\n",
       "      <td>1.988550</td>\n",
       "    </tr>\n",
       "    <tr>\n",
       "      <td>Loopring LRC</td>\n",
       "      <td>1.973388e+08</td>\n",
       "      <td>828.0</td>\n",
       "      <td>870.0</td>\n",
       "      <td>772.0</td>\n",
       "      <td>848.0</td>\n",
       "      <td>0.36</td>\n",
       "      <td>0.12</td>\n",
       "      <td>1.09</td>\n",
       "      <td>17.94</td>\n",
       "      <td>72.86</td>\n",
       "      <td>-0.12%</td>\n",
       "      <td>-0.35%</td>\n",
       "      <td>0.00%</td>\n",
       "      <td>15.84%</td>\n",
       "      <td>14.62%</td>\n",
       "      <td>1.04%</td>\n",
       "      <td>0.65%</td>\n",
       "      <td>2.25%</td>\n",
       "      <td>19.13%</td>\n",
       "      <td>649.51%</td>\n",
       "      <td>0.11%</td>\n",
       "      <td>0.71%</td>\n",
       "      <td>2.91%</td>\n",
       "      <td>26.37%</td>\n",
       "      <td>37.43%</td>\n",
       "      <td>19.100433</td>\n",
       "      <td>23.4410</td>\n",
       "      <td>4.340567</td>\n",
       "      <td>0.846779</td>\n",
       "      <td>0.567030</td>\n",
       "      <td>0.259506</td>\n",
       "      <td>0.083348</td>\n",
       "      <td>0.864012</td>\n",
       "      <td>3.044194</td>\n",
       "      <td>0.028351</td>\n",
       "      <td>0.064877</td>\n",
       "      <td>0.037506</td>\n",
       "      <td>0.129602</td>\n",
       "      <td>0.304419</td>\n",
       "      <td>1.223982</td>\n",
       "      <td>2.070761</td>\n",
       "    </tr>\n",
       "    <tr>\n",
       "      <td>Aragon ANT</td>\n",
       "      <td>1.539961e+08</td>\n",
       "      <td>884.0</td>\n",
       "      <td>936.0</td>\n",
       "      <td>818.0</td>\n",
       "      <td>898.0</td>\n",
       "      <td>-0.68</td>\n",
       "      <td>-2.00</td>\n",
       "      <td>4.86</td>\n",
       "      <td>13.91</td>\n",
       "      <td>41.44</td>\n",
       "      <td>0.00%</td>\n",
       "      <td>-0.22%</td>\n",
       "      <td>-0.22%</td>\n",
       "      <td>1.51%</td>\n",
       "      <td>4.58%</td>\n",
       "      <td>-1.57%</td>\n",
       "      <td>-4.89%</td>\n",
       "      <td>8.05%</td>\n",
       "      <td>29.84%</td>\n",
       "      <td>129.13%</td>\n",
       "      <td>0.22%</td>\n",
       "      <td>0.78%</td>\n",
       "      <td>31.09%</td>\n",
       "      <td>52.20%</td>\n",
       "      <td>215.08%</td>\n",
       "      <td>18.852438</td>\n",
       "      <td>24.3848</td>\n",
       "      <td>5.532362</td>\n",
       "      <td>1.379260</td>\n",
       "      <td>-0.338824</td>\n",
       "      <td>-0.338287</td>\n",
       "      <td>0.530124</td>\n",
       "      <td>0.606399</td>\n",
       "      <td>1.588454</td>\n",
       "      <td>-0.016941</td>\n",
       "      <td>-0.084572</td>\n",
       "      <td>0.238556</td>\n",
       "      <td>0.090960</td>\n",
       "      <td>0.158845</td>\n",
       "      <td>0.768748</td>\n",
       "      <td>2.148008</td>\n",
       "    </tr>\n",
       "    <tr>\n",
       "      <td>Fantom FTM</td>\n",
       "      <td>7.657484e+07</td>\n",
       "      <td>704.0</td>\n",
       "      <td>823.0</td>\n",
       "      <td>527.0</td>\n",
       "      <td>853.0</td>\n",
       "      <td>1.00</td>\n",
       "      <td>3.52</td>\n",
       "      <td>7.48</td>\n",
       "      <td>6.50</td>\n",
       "      <td>16.36</td>\n",
       "      <td>-0.13%</td>\n",
       "      <td>-0.73%</td>\n",
       "      <td>2.10%</td>\n",
       "      <td>1.73%</td>\n",
       "      <td>18.75%</td>\n",
       "      <td>3.74%</td>\n",
       "      <td>13.09%</td>\n",
       "      <td>19.23%</td>\n",
       "      <td>12.36%</td>\n",
       "      <td>12.12%</td>\n",
       "      <td>-0.47%</td>\n",
       "      <td>2.89%</td>\n",
       "      <td>7.56%</td>\n",
       "      <td>20.99%</td>\n",
       "      <td>15.89%</td>\n",
       "      <td>18.153779</td>\n",
       "      <td>22.7689</td>\n",
       "      <td>4.615121</td>\n",
       "      <td>0.785710</td>\n",
       "      <td>1.124479</td>\n",
       "      <td>1.218231</td>\n",
       "      <td>0.840615</td>\n",
       "      <td>0.132725</td>\n",
       "      <td>0.426457</td>\n",
       "      <td>0.056224</td>\n",
       "      <td>0.304558</td>\n",
       "      <td>0.378277</td>\n",
       "      <td>0.019909</td>\n",
       "      <td>0.042646</td>\n",
       "      <td>1.390034</td>\n",
       "      <td>2.175743</td>\n",
       "    </tr>\n",
       "    <tr>\n",
       "      <td>SingularityNET AGI</td>\n",
       "      <td>3.662252e+07</td>\n",
       "      <td>753.0</td>\n",
       "      <td>834.0</td>\n",
       "      <td>655.0</td>\n",
       "      <td>744.0</td>\n",
       "      <td>-0.53</td>\n",
       "      <td>-2.21</td>\n",
       "      <td>15.49</td>\n",
       "      <td>17.84</td>\n",
       "      <td>18.58</td>\n",
       "      <td>0.12%</td>\n",
       "      <td>0.72%</td>\n",
       "      <td>5.97%</td>\n",
       "      <td>-2.92%</td>\n",
       "      <td>-5.98%</td>\n",
       "      <td>-1.80%</td>\n",
       "      <td>-7.23%</td>\n",
       "      <td>32.32%</td>\n",
       "      <td>73.74%</td>\n",
       "      <td>95.52%</td>\n",
       "      <td>0.81%</td>\n",
       "      <td>0.94%</td>\n",
       "      <td>22.57%</td>\n",
       "      <td>27.61%</td>\n",
       "      <td>31.68%</td>\n",
       "      <td>17.416174</td>\n",
       "      <td>22.9262</td>\n",
       "      <td>5.510026</td>\n",
       "      <td>0.956655</td>\n",
       "      <td>-0.208172</td>\n",
       "      <td>-0.397502</td>\n",
       "      <td>1.789866</td>\n",
       "      <td>0.857619</td>\n",
       "      <td>0.529313</td>\n",
       "      <td>-0.010409</td>\n",
       "      <td>-0.099376</td>\n",
       "      <td>0.805440</td>\n",
       "      <td>0.128643</td>\n",
       "      <td>0.052931</td>\n",
       "      <td>1.256489</td>\n",
       "      <td>2.213144</td>\n",
       "    </tr>\n",
       "    <tr>\n",
       "      <td>Qtum QTUM</td>\n",
       "      <td>2.313849e+08</td>\n",
       "      <td>712.0</td>\n",
       "      <td>792.0</td>\n",
       "      <td>581.0</td>\n",
       "      <td>871.0</td>\n",
       "      <td>0.99</td>\n",
       "      <td>4.09</td>\n",
       "      <td>10.55</td>\n",
       "      <td>10.55</td>\n",
       "      <td>-5.20</td>\n",
       "      <td>0.38%</td>\n",
       "      <td>1.79%</td>\n",
       "      <td>5.88%</td>\n",
       "      <td>16.12%</td>\n",
       "      <td>-1.25%</td>\n",
       "      <td>2.10%</td>\n",
       "      <td>9.41%</td>\n",
       "      <td>21.29%</td>\n",
       "      <td>3.01%</td>\n",
       "      <td>-14.44%</td>\n",
       "      <td>0.69%</td>\n",
       "      <td>0.11%</td>\n",
       "      <td>4.31%</td>\n",
       "      <td>7.26%</td>\n",
       "      <td>8.33%</td>\n",
       "      <td>19.259593</td>\n",
       "      <td>22.3256</td>\n",
       "      <td>3.066007</td>\n",
       "      <td>0.194998</td>\n",
       "      <td>1.115768</td>\n",
       "      <td>1.378959</td>\n",
       "      <td>1.204436</td>\n",
       "      <td>0.391616</td>\n",
       "      <td>-0.572453</td>\n",
       "      <td>0.055788</td>\n",
       "      <td>0.344740</td>\n",
       "      <td>0.541996</td>\n",
       "      <td>0.058742</td>\n",
       "      <td>-0.057245</td>\n",
       "      <td>2.169004</td>\n",
       "      <td>2.364002</td>\n",
       "    </tr>\n",
       "    <tr>\n",
       "      <td>Fetch FET</td>\n",
       "      <td>6.464013e+07</td>\n",
       "      <td>745.0</td>\n",
       "      <td>866.0</td>\n",
       "      <td>578.0</td>\n",
       "      <td>834.0</td>\n",
       "      <td>0.26</td>\n",
       "      <td>-0.41</td>\n",
       "      <td>11.36</td>\n",
       "      <td>20.16</td>\n",
       "      <td>10.04</td>\n",
       "      <td>0.00%</td>\n",
       "      <td>0.34%</td>\n",
       "      <td>2.12%</td>\n",
       "      <td>2.85%</td>\n",
       "      <td>-1.71%</td>\n",
       "      <td>0.69%</td>\n",
       "      <td>-2.04%</td>\n",
       "      <td>37.94%</td>\n",
       "      <td>76.75%</td>\n",
       "      <td>29.01%</td>\n",
       "      <td>0.00%</td>\n",
       "      <td>0.00%</td>\n",
       "      <td>2.83%</td>\n",
       "      <td>17.13%</td>\n",
       "      <td>50.54%</td>\n",
       "      <td>17.984346</td>\n",
       "      <td>23.3838</td>\n",
       "      <td>5.399454</td>\n",
       "      <td>1.062392</td>\n",
       "      <td>0.479929</td>\n",
       "      <td>0.110058</td>\n",
       "      <td>1.300427</td>\n",
       "      <td>1.005922</td>\n",
       "      <td>0.133641</td>\n",
       "      <td>0.023996</td>\n",
       "      <td>0.027515</td>\n",
       "      <td>0.585192</td>\n",
       "      <td>0.150888</td>\n",
       "      <td>0.013364</td>\n",
       "      <td>1.328917</td>\n",
       "      <td>2.391309</td>\n",
       "    </tr>\n",
       "    <tr>\n",
       "      <td>TokenClub TCT</td>\n",
       "      <td>8.327951e+06</td>\n",
       "      <td>232.0</td>\n",
       "      <td>275.0</td>\n",
       "      <td>174.0</td>\n",
       "      <td>870.0</td>\n",
       "      <td>-1.28</td>\n",
       "      <td>20.83</td>\n",
       "      <td>40.60</td>\n",
       "      <td>8.41</td>\n",
       "      <td>21.46</td>\n",
       "      <td>0.00%</td>\n",
       "      <td>10.00%</td>\n",
       "      <td>10.00%</td>\n",
       "      <td>0.00%</td>\n",
       "      <td>52.77%</td>\n",
       "      <td>-3.34%</td>\n",
       "      <td>52.63%</td>\n",
       "      <td>194.91%</td>\n",
       "      <td>-3.87%</td>\n",
       "      <td>25.17%</td>\n",
       "      <td>-0.58%</td>\n",
       "      <td>30.43%</td>\n",
       "      <td>40.54%</td>\n",
       "      <td>44.03%</td>\n",
       "      <td>64.46%</td>\n",
       "      <td>15.935128</td>\n",
       "      <td>14.9325</td>\n",
       "      <td>-1.002628</td>\n",
       "      <td>-0.850299</td>\n",
       "      <td>-0.861433</td>\n",
       "      <td>6.099269</td>\n",
       "      <td>4.765608</td>\n",
       "      <td>0.254819</td>\n",
       "      <td>0.662748</td>\n",
       "      <td>-0.043072</td>\n",
       "      <td>1.524817</td>\n",
       "      <td>2.144524</td>\n",
       "      <td>0.038223</td>\n",
       "      <td>0.066275</td>\n",
       "      <td>3.696064</td>\n",
       "      <td>2.845765</td>\n",
       "    </tr>\n",
       "  </tbody>\n",
       "</table>\n",
       "</div>"
      ],
      "text/plain": [
       "                      MARKET CAP   FCAS  DEV. BEHAVIOR  USER ACTIVITY  \\\n",
       "PROJECT                                                                 \n",
       "Gas GAS             1.646063e+07  814.0          861.0          772.0   \n",
       "OmiseGO OMG         5.372790e+08  856.0          842.0          867.0   \n",
       "Golem GNT           1.154146e+08  717.0          886.0          488.0   \n",
       "Komodo KMD          7.256284e+07  709.0          886.0          537.0   \n",
       "Nano NANO           1.145272e+08  648.0          785.0          500.0   \n",
       "Storj STORJ         9.644052e+07  812.0          885.0          705.0   \n",
       "ETHLend LEND        6.960421e+08  874.0          818.0          940.0   \n",
       "Siacoin SC          1.438525e+08  689.0          839.0          537.0   \n",
       "Ark ARK             4.042342e+07  727.0          920.0          537.0   \n",
       "OAX OAX             7.165380e+06  280.0          375.0          313.0   \n",
       "Loopring LRC        1.973388e+08  828.0          870.0          772.0   \n",
       "Aragon ANT          1.539961e+08  884.0          936.0          818.0   \n",
       "Fantom FTM          7.657484e+07  704.0          823.0          527.0   \n",
       "SingularityNET AGI  3.662252e+07  753.0          834.0          655.0   \n",
       "Qtum QTUM           2.313849e+08  712.0          792.0          581.0   \n",
       "Fetch FET           6.464013e+07  745.0          866.0          578.0   \n",
       "TokenClub TCT       8.327951e+06  232.0          275.0          174.0   \n",
       "\n",
       "                    MARKET MATURITY    1D     5D     1M     6M     1Y    1D.1  \\\n",
       "PROJECT                                                                         \n",
       "Gas GAS                       731.0  0.12   0.61   5.57   8.67   8.24   0.00%   \n",
       "OmiseGO OMG                   890.0  0.00  -0.35   7.00  17.42   7.67   0.11%   \n",
       "Golem GNT                     813.0 -0.28  -0.97   5.59   9.29   5.90  -0.12%   \n",
       "Komodo KMD                    732.0  0.00   0.14   1.57  15.47  22.45   0.00%   \n",
       "Nano NANO                     780.0  0.30   1.72   4.51  22.49  21.12   0.38%   \n",
       "Storj STORJ                   899.0 -0.62  -0.50   5.31   6.56  24.34  -0.23%   \n",
       "ETHLend LEND                  895.0  0.11   0.22   3.55  25.93  57.19   0.00%   \n",
       "Siacoin SC                    786.0  0.00   0.29   3.29  21.73  46.90   0.00%   \n",
       "Ark ARK                       738.0  0.13   0.27   2.68  17.63  26.43   0.00%   \n",
       "OAX OAX                       745.0 -3.12  -5.41  41.41  61.84  76.10   0.00%   \n",
       "Loopring LRC                  848.0  0.36   0.12   1.09  17.94  72.86  -0.12%   \n",
       "Aragon ANT                    898.0 -0.68  -2.00   4.86  13.91  41.44   0.00%   \n",
       "Fantom FTM                    853.0  1.00   3.52   7.48   6.50  16.36  -0.13%   \n",
       "SingularityNET AGI            744.0 -0.53  -2.21  15.49  17.84  18.58   0.12%   \n",
       "Qtum QTUM                     871.0  0.99   4.09  10.55  10.55  -5.20   0.38%   \n",
       "Fetch FET                     834.0  0.26  -0.41  11.36  20.16  10.04   0.00%   \n",
       "TokenClub TCT                 870.0 -1.28  20.83  40.60   8.41  21.46   0.00%   \n",
       "\n",
       "                      5D.1    1M.1    6M.1     1Y.1    1D.2     5D.2     1M.2  \\\n",
       "PROJECT                                                                         \n",
       "Gas GAS             -0.12%   0.46%   8.98%    5.64%   0.12%    1.57%   14.88%   \n",
       "OmiseGO OMG         -0.12%   3.43%  14.71%    2.18%   0.00%   -0.58%   10.44%   \n",
       "Golem GNT           -0.12%   1.83%   4.11%    0.22%  -0.82%   -3.18%   12.96%   \n",
       "Komodo KMD          -0.12%  -0.79%   0.68%    0.79%   0.00%    0.00%   -2.37%   \n",
       "Nano NANO            1.15%   1.55%   9.02%   -1.14%   0.00%    2.66%    2.66%   \n",
       "Storj STORJ         -0.57%  -0.45%   1.25%   -0.90%  -1.27%   -0.85%   11.90%   \n",
       "ETHLend LEND         0.00%   2.12%   2.76%   29.43%   0.10%    0.10%    4.91%   \n",
       "Siacoin SC          -0.12%   0.00%   7.28%   24.85%   0.00%    0.00%    2.28%   \n",
       "Ark ARK             -0.22%   0.65%   2.79%    4.54%   0.00%    0.00%    2.28%   \n",
       "OAX OAX              0.00%  25.00%  50.00%  108.33%  -6.85%  -11.34%  148.41%   \n",
       "Loopring LRC        -0.35%   0.00%  15.84%   14.62%   1.04%    0.65%    2.25%   \n",
       "Aragon ANT          -0.22%  -0.22%   1.51%    4.58%  -1.57%   -4.89%    8.05%   \n",
       "Fantom FTM          -0.73%   2.10%   1.73%   18.75%   3.74%   13.09%   19.23%   \n",
       "SingularityNET AGI   0.72%   5.97%  -2.92%   -5.98%  -1.80%   -7.23%   32.32%   \n",
       "Qtum QTUM            1.79%   5.88%  16.12%   -1.25%   2.10%    9.41%   21.29%   \n",
       "Fetch FET            0.34%   2.12%   2.85%   -1.71%   0.69%   -2.04%   37.94%   \n",
       "TokenClub TCT       10.00%  10.00%   0.00%   52.77%  -3.34%   52.63%  194.91%   \n",
       "\n",
       "                       6M.2     1Y.2    1D.3    5D.3    1M.3    6M.3     1Y.3  \\\n",
       "PROJECT                                                                         \n",
       "Gas GAS               9.34%    9.50%   0.41%   0.13%  -0.28%   3.39%   21.83%   \n",
       "OmiseGO OMG          22.11%   12.45%  -0.23%  -0.34%  12.09%  11.94%   20.43%   \n",
       "Golem GNT            19.90%   12.96%  -0.13%   0.24%  11.52%  16.97%   31.98%   \n",
       "Komodo KMD            2.28%  168.50%  -1.62%  -1.22%   5.02%   7.64%   20.00%   \n",
       "Nano NANO             8.22%  150.00%   0.90%   0.38%   7.43%  10.79%   27.65%   \n",
       "Storj STORJ           9.64%   89.51%  -0.12%   1.92%  20.50%  36.62%   57.99%   \n",
       "ETHLend LEND         63.19%   97.06%   0.78%   2.28%   4.92%  36.22%   88.81%   \n",
       "Siacoin SC            0.00%  168.50%   0.12%   0.12%   5.64%  13.91%   41.11%   \n",
       "Ark ARK               2.28%  168.50%  -0.14%   0.13%  -5.02%  16.22%   31.78%   \n",
       "OAX OAX             243.95%  360.29%   0.13%   0.26%   8.44%  34.71%   49.59%   \n",
       "Loopring LRC         19.13%  649.51%   0.11%   0.71%   2.91%  26.37%   37.43%   \n",
       "Aragon ANT           29.84%  129.13%   0.22%   0.78%  31.09%  52.20%  215.08%   \n",
       "Fantom FTM           12.36%   12.12%  -0.47%   2.89%   7.56%  20.99%   15.89%   \n",
       "SingularityNET AGI   73.74%   95.52%   0.81%   0.94%  22.57%  27.61%   31.68%   \n",
       "Qtum QTUM             3.01%  -14.44%   0.69%   0.11%   4.31%   7.26%    8.33%   \n",
       "Fetch FET            76.75%   29.01%   0.00%   0.00%   2.83%  17.13%   50.54%   \n",
       "TokenClub TCT        -3.87%   25.17%  -0.58%  30.43%  40.54%  44.03%   64.46%   \n",
       "\n",
       "                    norm_mcap  theoretical_dev_norm_mcap  dev_mcap  \\\n",
       "PROJECT                                                              \n",
       "Gas GAS             16.616482                    23.3123  6.695818   \n",
       "OmiseGO OMG         20.102028                    23.0406  2.938572   \n",
       "Golem GNT           18.564041                    23.6698  5.105759   \n",
       "Komodo KMD          18.099963                    23.6698  5.569837   \n",
       "Nano NANO           18.556323                    22.2255  3.669177   \n",
       "Storj STORJ         18.384437                    23.6555  5.271063   \n",
       "ETHLend LEND        20.360921                    22.6974  2.336479   \n",
       "Siacoin SC          18.784299                    22.9977  4.213401   \n",
       "Ark ARK             17.514920                    24.1560  6.641080   \n",
       "OAX OAX             15.784772                    16.3625  0.577728   \n",
       "Loopring LRC        19.100433                    23.4410  4.340567   \n",
       "Aragon ANT          18.852438                    24.3848  5.532362   \n",
       "Fantom FTM          18.153779                    22.7689  4.615121   \n",
       "SingularityNET AGI  17.416174                    22.9262  5.510026   \n",
       "Qtum QTUM           19.259593                    22.3256  3.066007   \n",
       "Fetch FET           17.984346                    23.3838  5.399454   \n",
       "TokenClub TCT       15.935128                    14.9325 -1.002628   \n",
       "\n",
       "                    dev_zscore  1D_zscore  5D_zscore  1M_zscore  6M_zscore  \\\n",
       "PROJECT                                                                      \n",
       "Gas GAS               1.101040   0.357987   0.397676   0.614265   0.271439   \n",
       "OmiseGO OMG           0.154397   0.253465   0.126977   0.783731   0.830772   \n",
       "Golem GNT             1.092476   0.009581  -0.047849   0.616635   0.311072   \n",
       "Komodo KMD            1.162760   0.253465   0.265146   0.140232   0.706120   \n",
       "Nano NANO             0.438150   0.514769   0.710671   0.488646   1.154865   \n",
       "Storj STORJ           1.117506  -0.286563   0.084680   0.583452   0.136560   \n",
       "ETHLend LEND         -0.251284   0.349276   0.287704   0.374878   1.374762   \n",
       "Siacoin SC            0.724202   0.253465   0.307443   0.344066   1.106283   \n",
       "Ark ARK               1.377427   0.366697   0.301803   0.271776   0.844195   \n",
       "OAX OAX              -0.468457  -2.464098  -1.299831   4.861600   3.670262   \n",
       "Loopring LRC          0.846779   0.567030   0.259506   0.083348   0.864012   \n",
       "Aragon ANT            1.379260  -0.338824  -0.338287   0.530124   0.606399   \n",
       "Fantom FTM            0.785710   1.124479   1.218231   0.840615   0.132725   \n",
       "SingularityNET AGI    0.956655  -0.208172  -0.397502   1.789866   0.857619   \n",
       "Qtum QTUM             0.194998   1.115768   1.378959   1.204436   0.391616   \n",
       "Fetch FET             1.062392   0.479929   0.110058   1.300427   1.005922   \n",
       "TokenClub TCT        -0.850299  -0.861433   6.099269   4.765608   0.254819   \n",
       "\n",
       "                    1Y_zscore  1D_zscore_proportion  5D_zscore_proportion  \\\n",
       "PROJECT                                                                     \n",
       "Gas GAS              0.050244              0.017899              0.099419   \n",
       "OmiseGO OMG          0.023835              0.012673              0.031744   \n",
       "Golem GNT           -0.058172              0.000479             -0.011962   \n",
       "Komodo KMD           0.708617              0.012673              0.066286   \n",
       "Nano NANO            0.646995              0.025738              0.177668   \n",
       "Storj STORJ          0.796183             -0.014328              0.021170   \n",
       "ETHLend LEND         2.318177              0.017464              0.071926   \n",
       "Siacoin SC           1.841425              0.012673              0.076861   \n",
       "Ark ARK              0.893016              0.018335              0.075451   \n",
       "OAX OAX              3.194308             -0.123205             -0.324958   \n",
       "Loopring LRC         3.044194              0.028351              0.064877   \n",
       "Aragon ANT           1.588454             -0.016941             -0.084572   \n",
       "Fantom FTM           0.426457              0.056224              0.304558   \n",
       "SingularityNET AGI   0.529313             -0.010409             -0.099376   \n",
       "Qtum QTUM           -0.572453              0.055788              0.344740   \n",
       "Fetch FET            0.133641              0.023996              0.027515   \n",
       "TokenClub TCT        0.662748             -0.043072              1.524817   \n",
       "\n",
       "                    1M_zscore_proportion  6M_zscore_proportion  \\\n",
       "PROJECT                                                          \n",
       "Gas GAS                         0.276419              0.040716   \n",
       "OmiseGO OMG                     0.352679              0.124616   \n",
       "Golem GNT                       0.277486              0.046661   \n",
       "Komodo KMD                      0.063104              0.105918   \n",
       "Nano NANO                       0.219891              0.173230   \n",
       "Storj STORJ                     0.262554              0.020484   \n",
       "ETHLend LEND                    0.168695              0.206214   \n",
       "Siacoin SC                      0.154830              0.165942   \n",
       "Ark ARK                         0.122299              0.126629   \n",
       "OAX OAX                         2.187720              0.550539   \n",
       "Loopring LRC                    0.037506              0.129602   \n",
       "Aragon ANT                      0.238556              0.090960   \n",
       "Fantom FTM                      0.378277              0.019909   \n",
       "SingularityNET AGI              0.805440              0.128643   \n",
       "Qtum QTUM                       0.541996              0.058742   \n",
       "Fetch FET                       0.585192              0.150888   \n",
       "TokenClub TCT                   2.144524              0.038223   \n",
       "\n",
       "                    1Y_zscore_proportion  %change_zscore  Final Score  \n",
       "PROJECT                                                                \n",
       "Gas GAS                         0.005024        0.472916     1.573956  \n",
       "OmiseGO OMG                     0.002384        1.439914     1.594311  \n",
       "Golem GNT                      -0.005817        0.552916     1.645391  \n",
       "Komodo KMD                      0.070862        0.508197     1.670957  \n",
       "Nano NANO                       0.064700        1.260023     1.698173  \n",
       "Storj STORJ                     0.079618        0.646695     1.764201  \n",
       "ETHLend LEND                    0.231818        2.050919     1.799635  \n",
       "Siacoin SC                      0.184142        1.193671     1.917873  \n",
       "Ark ARK                         0.089302        0.604311     1.981738  \n",
       "OAX OAX                         0.319431        2.457007     1.988550  \n",
       "Loopring LRC                    0.304419        1.223982     2.070761  \n",
       "Aragon ANT                      0.158845        0.768748     2.148008  \n",
       "Fantom FTM                      0.042646        1.390034     2.175743  \n",
       "SingularityNET AGI              0.052931        1.256489     2.213144  \n",
       "Qtum QTUM                      -0.057245        2.169004     2.364002  \n",
       "Fetch FET                       0.013364        1.328917     2.391309  \n",
       "TokenClub TCT                   0.066275        3.696064     2.845765  "
      ]
     },
     "execution_count": 31,
     "metadata": {},
     "output_type": "execute_result"
    }
   ],
   "source": [
    "fcas_df = fcas_df.sort_values('Final Score')\n",
    "pd.set_option('display.max_columns', None)\n",
    "pd.set_option('display.max_rows', None)\n",
    "fcas_df"
   ]
  },
  {
   "cell_type": "markdown",
   "metadata": {},
   "source": [
    "# Part 2: Rating Our Top 20 Coins...  by things that affect short term price movement"
   ]
  },
  {
   "cell_type": "code",
   "execution_count": 32,
   "metadata": {},
   "outputs": [],
   "source": [
    "fcas_df['1D.1'] = fcas_df['1D.1'].str.replace('%','')\n",
    "fcas_df['5D.1'] = fcas_df['5D.1'].str.replace('%','')\n",
    "fcas_df['1M.1'] = fcas_df['1M.1'].str.replace('%','')\n",
    "fcas_df['6M.1'] = fcas_df['6M.1'].str.replace('%','')\n",
    "fcas_df['1Y.1'] = fcas_df['1Y.1'].str.replace('%','')\n",
    "fcas_df['1D.2'] = fcas_df['1D.2'].str.replace('%','')\n",
    "fcas_df['5D.2'] = fcas_df['5D.2'].str.replace('%','')\n",
    "fcas_df['1M.2'] = fcas_df['1M.2'].str.replace('%','')\n",
    "fcas_df['6M.2'] = fcas_df['6M.2'].str.replace('%','')\n",
    "fcas_df['1Y.2'] = fcas_df['1Y.2'].str.replace('%','')\n",
    "fcas_df['1D.3'] = fcas_df['1D.3'].str.replace('%','')\n",
    "fcas_df['5D.3'] = fcas_df['5D.3'].str.replace('%','')\n",
    "fcas_df['1M.3'] = fcas_df['1M.3'].str.replace('%','')\n",
    "fcas_df['6M.3'] = fcas_df['6M.3'].str.replace('%','')\n",
    "fcas_df['1Y.3'] = fcas_df['1Y.3'].str.replace('%','')\n",
    "\n",
    "fcas_df['1D.1'] = fcas_df['1D.1'].astype(float)\n",
    "fcas_df['5D.1'] = fcas_df['5D.1'].astype(float)\n",
    "fcas_df['1M.1'] = fcas_df['1M.1'].astype(float)\n",
    "fcas_df['6M.1'] = fcas_df['6M.1'].astype(float)\n",
    "fcas_df['1Y.1'] = fcas_df['1Y.1'].astype(float)\n",
    "fcas_df['1D.2'] = fcas_df['1D.2'].astype(float)\n",
    "fcas_df['5D.2'] = fcas_df['5D.2'].astype(float)\n",
    "fcas_df['1M.2'] = fcas_df['1M.2'].astype(float)\n",
    "fcas_df['6M.2'] = fcas_df['6M.2'].astype(float)\n",
    "fcas_df['1Y.2'] = fcas_df['1Y.2'].astype(float)\n",
    "fcas_df['1D.3'] = fcas_df['1D.3'].astype(float)\n",
    "fcas_df['5D.3'] = fcas_df['5D.3'].astype(float)\n",
    "fcas_df['1M.3'] = fcas_df['1M.3'].astype(float)\n",
    "fcas_df['6M.3'] = fcas_df['6M.3'].astype(float)\n",
    "fcas_df['1Y.3'] = fcas_df['1Y.3'].astype(float)"
   ]
  },
  {
   "cell_type": "code",
   "execution_count": 33,
   "metadata": {},
   "outputs": [],
   "source": [
    "fcas_df['1D.2'] = 3*(fcas_df['1D.2'] - fcas_df['1D.2'].mean()) / (fcas_df['1D.2'].std())\n",
    "fcas_df['5D.2'] = 3*(fcas_df['5D.2'] - fcas_df['5D.2'].mean()) / (fcas_df['5D.2'].std())\n",
    "fcas_df['1M.2'] = 3*(fcas_df['1M.2'] - fcas_df['1M.2'].mean()) / (fcas_df['1M.2'].std())\n",
    "\n",
    "fcas_df['1D.3'] = 3*(fcas_df['1D.3'] - fcas_df['1D.3'].mean()) / (fcas_df['1D.3'].std())\n",
    "fcas_df['5D.3'] = 3*(fcas_df['5D.3'] - fcas_df['5D.3'].mean()) / (fcas_df['5D.3'].std())\n",
    "fcas_df['1M.3'] = 3*(fcas_df['1M.3'] - fcas_df['1M.3'].mean()) / (fcas_df['1M.3'].std())"
   ]
  },
  {
   "cell_type": "code",
   "execution_count": 34,
   "metadata": {},
   "outputs": [],
   "source": [
    "fcas_df['%change user activity'] = (fcas_df['1D.2']*0.25) + (fcas_df['5D.2']*0.5) + (fcas_df['1M.2']*0.25)\n",
    "fcas_df['%change market maturity'] = (fcas_df['1D.3']*0.25) + (fcas_df['5D.3']*0.5) + (fcas_df['1M.3']*0.25)\n",
    "fcas_df['Short Term Investment Potential Score'] = fcas_df['%change user activity'] + fcas_df['%change market maturity']"
   ]
  },
  {
   "cell_type": "markdown",
   "metadata": {},
   "source": [
    "# Part 3 - Results"
   ]
  },
  {
   "cell_type": "code",
   "execution_count": 35,
   "metadata": {},
   "outputs": [],
   "source": [
    "fcas_df = fcas_df.sort_values('Short Term Investment Potential Score')"
   ]
  },
  {
   "cell_type": "code",
   "execution_count": 36,
   "metadata": {
    "scrolled": false
   },
   "outputs": [],
   "source": [
    "final_investments = fcas_df['Final Score'], fcas_df['Short Term Investment Potential Score']"
   ]
  },
  {
   "cell_type": "code",
   "execution_count": 37,
   "metadata": {
    "scrolled": false
   },
   "outputs": [
    {
     "data": {
      "text/plain": [
       "<matplotlib.axes._subplots.AxesSubplot at 0x1d039f264c8>"
      ]
     },
     "execution_count": 37,
     "metadata": {},
     "output_type": "execute_result"
    },
    {
     "data": {
      "image/png": "[encoded data removed]",
      "text/plain": [
       "<Figure size 1080x1080 with 1 Axes>"
      ]
     },
     "metadata": {
      "needs_background": "light"
     },
     "output_type": "display_data"
    }
   ],
   "source": [
    "fcas_df.plot.bar(x= None, y=['Final Score','Short Term Investment Potential Score'],figsize=(15,15))"
   ]
  }
 ],
 "metadata": {
  "kernelspec": {
   "display_name": "Python 3",
   "language": "python",
   "name": "python3"
  },
  "language_info": {
   "codemirror_mode": {
    "name": "ipython",
    "version": 3
   },
   "file_extension": ".py",
   "mimetype": "text/x-python",
   "name": "python",
   "nbconvert_exporter": "python",
   "pygments_lexer": "ipython3",
   "version": "3.7.4"
  }
 },
 "nbformat": 4,
 "nbformat_minor": 2
}
